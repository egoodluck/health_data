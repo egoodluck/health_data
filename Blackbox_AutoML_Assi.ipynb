{
  "cells": [
    {
      "cell_type": "code",
      "execution_count": null,
      "metadata": {
        "collapsed": true,
        "id": "mLsefhZDFmsn"
      },
      "outputs": [],
      "source": [
        "!pip install mljar-supervised"
      ]
    },
    {
      "cell_type": "code",
      "execution_count": null,
      "metadata": {
        "collapsed": true,
        "id": "8RFprbGeGANh"
      },
      "outputs": [],
      "source": [
        "import pandas as pd\n",
        "from supervised.automl import AutoML\n",
        "from sklearn.model_selection import train_test_split\n",
        "\n",
        "# Load the dataset\n",
        "data = pd.read_csv('insert your Dataset')\n",
        "\n",
        "# Prepare the features (X) and target (y)\n",
        "X = data.drop(columns=[\"insert unwanted features \"])  # Drop Id and Outcome columns\n",
        "y = data[\"insert your Target feature\"]  # Target variable (Outcome)\n",
        "\n",
        "# Split the data into training and test sets\n",
        "X_train, X_test, y_train, y_test = train_test_split(X, y, test_size=0.2, random_state=42)\n",
        "\n",
        "# Initialize AutoML\n",
        "automl = AutoML()\n",
        "\n",
        "# Train the model\n",
        "automl.fit(X_train, y_train)\n",
        "\n",
        "# Make predictions on the test set\n",
        "predictions = automl.predict(X_test)\n",
        "\n",
        "# Display the first few predictions\n",
        "print(predictions[:10])\n",
        "\n",
        "\n",
        "\n"
      ]
    },
    {
      "cell_type": "markdown",
      "metadata": {
        "id": "OiZo4l0_Ornn"
      },
      "source": [
        "**Next Steps:\n",
        "Use the Best Model:\n",
        "Model Interpretability**"
      ]
    },
    {
      "cell_type": "code",
      "execution_count": null,
      "metadata": {
        "id": "02kSnGTrO8y1"
      },
      "outputs": [],
      "source": [
        "# Get feature importance\n",
        "feature_importances = automl.get_leaderboard()\n",
        "print(feature_importances)\n"
      ]
    }
  ],
  "metadata": {
    "colab": {
      "provenance": []
    },
    "kernelspec": {
      "display_name": "Python 3",
      "name": "python3"
    },
    "language_info": {
      "name": "python"
    }
  },
  "nbformat": 4,
  "nbformat_minor": 0
}
